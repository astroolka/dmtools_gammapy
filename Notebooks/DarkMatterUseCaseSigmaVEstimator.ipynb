{
 "cells": [
  {
   "cell_type": "markdown",
   "metadata": {},
   "source": [
    "# Calculate sigmav vs. mDM for simulated DM datasets"
   ]
  },
  {
   "cell_type": "code",
   "execution_count": 1,
   "metadata": {},
   "outputs": [],
   "source": [
    "%matplotlib inline\n",
    "import matplotlib.pyplot as plt\n",
    "\n",
    "import numpy as np\n",
    "import astropy.units as u\n",
    "from astropy.coordinates import SkyCoord, Angle\n",
    "\n",
    "from gammapy.maps import MapAxis, RegionNDMap\n",
    "from gammapy.modeling.models import PointSpatialModel\n",
    "from gammapy.modeling.models import SkyModel, Models\n",
    "from gammapy.astro.darkmatter.utils import SigmaVEstimator, DMDatasetOnOff\n",
    "from gammapy.astro.darkmatter import DarkMatterAnnihilationSpectralModel\n",
    "from gammapy.irf import load_cta_irfs"
   ]
  },
  {
   "cell_type": "markdown",
   "metadata": {},
   "source": [
    "## Define parameters for simulated observation"
   ]
  },
  {
   "cell_type": "code",
   "execution_count": 2,
   "metadata": {},
   "outputs": [],
   "source": [
    "# -\n",
    "livetime = 300 * u.h # in hours\n",
    "offset = 0.5 * u.deg\n",
    "FOVLON=0 * u.deg\n",
    "FOVLAT=0 * u.deg\n",
    "\n",
    "# Energy from 0.01 to 100 TeV with 20 bins/decade\n",
    "energy = np.logspace(-1.8, 1.5, 20) * u.TeV\n",
    "\n",
    "# Energy true wider range and higher number of bins\n",
    "energy_true = np.logspace(-2, 2, 100) * u.TeV\n",
    "\n",
    "# DMAnnihilation Model\n",
    "JFAC = 1.42e19 * u.Unit(\"GeV2 cm-5\") # Draco from Aguirre-Santaella+20\n",
    "mDM = 1000*u.Unit(\"GeV\")\n",
    "channel = \"b\"\n",
    "redshift = 0"
   ]
  },
  {
   "cell_type": "markdown",
   "metadata": {},
   "source": [
    "## Build IRFs with the defined parameters"
   ]
  },
  {
   "cell_type": "code",
   "execution_count": 3,
   "metadata": {},
   "outputs": [],
   "source": [
    "# Load IRFs\n",
    "filename = (\n",
    "    \"$GAMMAPY_DATA/prod3b-v1/bcf/North_z20_average_50h/irf_file.fits\"\n",
    ")\n",
    "cta_irf = load_cta_irfs(filename)"
   ]
  },
  {
   "cell_type": "code",
   "execution_count": 4,
   "metadata": {},
   "outputs": [
    {
     "name": "stdout",
     "output_type": "stream",
     "text": [
      "NDDataArray summary info\n",
      "MapAxis\n",
      "\n",
      "\tname       : energy_true\n",
      "\tunit       : 'TeV'     \n",
      "\tnbins      : 42        \n",
      "\tnode type  : edges     \n",
      "\tedges min  : 1.3e-02 TeV\n",
      "\tedges max  : 2.0e+02 TeV\n",
      "\tinterp     : log       \n",
      "MapAxis\n",
      "\n",
      "\tname       : offset    \n",
      "\tunit       : 'deg'     \n",
      "\tnbins      : 6         \n",
      "\tnode type  : edges     \n",
      "\tedges min  : 0.0e+00 deg\n",
      "\tedges max  : 6.0e+00 deg\n",
      "\tinterp     : lin       \n",
      "Data           : size =   252, min =  0.000 m2, max = 1303965.500 m2\n",
      "\n"
     ]
    },
    {
     "data": {
      "image/png": "[encoded data removed]",
      "text/plain": [
       "<Figure size 432x288 with 1 Axes>"
      ]
     },
     "metadata": {
      "needs_background": "light"
     },
     "output_type": "display_data"
    }
   ],
   "source": [
    "aeff = cta_irf[\"aeff\"].to_effective_area_table(offset=offset, energy=energy)\n",
    "aeff.plot()\n",
    "plt.loglog()\n",
    "print(cta_irf[\"aeff\"].data)"
   ]
  },
  {
   "cell_type": "code",
   "execution_count": 5,
   "metadata": {
    "code_folding": []
   },
   "outputs": [],
   "source": [
    "#edisp = cta_irf[\"edisp\"].to_energy_dispersion(\n",
    "#    offset=offset, e_true=energy_true, e_reco=energy\n",
    "#)\n",
    "#edisp.plot_matrix()\n",
    "#print(edisp.data)"
   ]
  },
  {
   "cell_type": "markdown",
   "metadata": {},
   "source": [
    "## Build the background counts from PSF and IRF background"
   ]
  },
  {
   "cell_type": "code",
   "execution_count": 6,
   "metadata": {},
   "outputs": [],
   "source": [
    "containment = 0.68\n",
    "energies = np.sqrt(energy[1:] * energy[:-1])\n",
    "psf = cta_irf[\"psf\"].to_energy_dependent_table_psf(theta=offset)\n",
    "on_radii = psf.containment_radius(energy=energies, fraction=containment)\n",
    "solid_angles = 2 * np.pi * (1 - np.cos(on_radii)) * u.sr\n",
    "\n",
    "#\n",
    "aeff.data.data *= containment"
   ]
  },
  {
   "cell_type": "code",
   "execution_count": 7,
   "metadata": {},
   "outputs": [],
   "source": [
    "bkg_data = cta_irf[\"bkg\"].evaluate_integrate(\n",
    "    fov_lon=FOVLON, fov_lat=FOVLAT, energy_reco=energy\n",
    ")\n",
    "axis = MapAxis.from_nodes(energies * u.TeV, interp=\"log\", name=\"energy\")\n",
    "bkg = RegionNDMap.create(f\"icrs;circle({FOVLON.value}, {FOVLAT.value}, {offset.value})\", axes=[axis])\n",
    "bkg.quantity = (bkg_data * solid_angles).to_value(\"h-1\")*livetime.value\n",
    "\n",
    "#bkg = CountsSpectrum(\n",
    "#    energy[:-1],\n",
    "#    energy[1:],\n",
    "#    data=(bkg_data * solid_angles).to_value(\"h-1\")*livetime\n",
    "#)"
   ]
  },
  {
   "cell_type": "code",
   "execution_count": 8,
   "metadata": {},
   "outputs": [
    {
     "data": {
      "text/plain": [
       "<matplotlib.axes._subplots.AxesSubplot at 0x7f96d9cc4cc0>"
      ]
     },
     "execution_count": 8,
     "metadata": {},
     "output_type": "execute_result"
    },
    {
     "data": {
      "image/png": "[encoded data removed]",
      "text/plain": [
       "<Figure size 432x288 with 1 Axes>"
      ]
     },
     "metadata": {
      "needs_background": "light"
     },
     "output_type": "display_data"
    }
   ],
   "source": [
    "bkg.plot()"
   ]
  },
  {
   "cell_type": "markdown",
   "metadata": {},
   "source": [
    "## Simulate OnOff observation with DM emission model"
   ]
  },
  {
   "cell_type": "code",
   "execution_count": 9,
   "metadata": {},
   "outputs": [],
   "source": [
    "# DM Spatial Component\n",
    "spatial_model = PointSpatialModel(\n",
    "    lon_0=\"260.05 deg\", lat_0=\"57.915 deg\", frame=\"icrs\"\n",
    ")"
   ]
  },
  {
   "cell_type": "code",
   "execution_count": 10,
   "metadata": {},
   "outputs": [],
   "source": [
    "# DM Flux\n",
    "spectral_model = DarkMatterAnnihilationSpectralModel(\n",
    "    mass=mDM, \n",
    "    channel=channel, \n",
    "    jfactor=JFAC, \n",
    "    z=redshift\n",
    ")"
   ]
  },
  {
   "cell_type": "code",
   "execution_count": 11,
   "metadata": {},
   "outputs": [],
   "source": [
    "from gammapy.modeling.models import Absorption, AbsorbedSpectralModel\n",
    "absorption_model = Absorption.read_builtin('dominguez')\n",
    "spectral_model = AbsorbedSpectralModel(spectral_model, absorption_model, redshift)"
   ]
  },
  {
   "cell_type": "code",
   "execution_count": 12,
   "metadata": {},
   "outputs": [],
   "source": [
    "sky_model = SkyModel(spatial_model=spatial_model, spectral_model=spectral_model)\n",
    "models = Models([sky_model])"
   ]
  },
  {
   "cell_type": "code",
   "execution_count": 13,
   "metadata": {},
   "outputs": [],
   "source": [
    "dataset = DMDatasetOnOff(\n",
    "    counts=bkg,\n",
    "    aeff=aeff,\n",
    "    models=models,\n",
    "    livetime=livetime,\n",
    "    acceptance=1,\n",
    "    acceptance_off=3\n",
    ")"
   ]
  },
  {
   "cell_type": "code",
   "execution_count": 14,
   "metadata": {},
   "outputs": [],
   "source": [
    "nuisance = dict(\n",
    "    j=JFAC,\n",
    "    jobs=JFAC,\n",
    "    sigmaj=0.3*JFAC,\n",
    "    sigmatau=0.01,\n",
    "    # width=5 # default value / optional param \n",
    ")\n",
    "dataset.nuisance = nuisance"
   ]
  },
  {
   "cell_type": "markdown",
   "metadata": {},
   "source": [
    "## The SigmaVEstimator"
   ]
  },
  {
   "cell_type": "markdown",
   "metadata": {},
   "source": [
    "**Enable inspection**"
   ]
  },
  {
   "cell_type": "code",
   "execution_count": 15,
   "metadata": {},
   "outputs": [],
   "source": [
    "#import logging\n",
    "#logging.basicConfig()\n",
    "#logging.getLogger(\"gammapy.astro.darkmatter.utils\").setLevel(\"WARNING\")\n",
    "#logging.getLogger(\"gammapy.astro.darkmatter.utils\").setLevel(\"DEBUG\")\n",
    "import warnings"
   ]
  },
  {
   "cell_type": "markdown",
   "metadata": {},
   "source": [
    "**Instatiate estimator**"
   ]
  },
  {
   "cell_type": "code",
   "execution_count": 16,
   "metadata": {},
   "outputs": [],
   "source": [
    "masses = [100, 200, 500, 1000, 5000, 10000, 50000]*u.GeV\n",
    "channels = [\"b\", \"tau\", \"Z\"] \n",
    "estimator = SigmaVEstimator(dataset, masses, channels)"
   ]
  },
  {
   "cell_type": "markdown",
   "metadata": {},
   "source": [
    "**Run estimator and fetch results**"
   ]
  },
  {
   "cell_type": "code",
   "execution_count": 32,
   "metadata": {
    "scrolled": false
   },
   "outputs": [
    {
     "name": "stderr",
     "output_type": "stream",
     "text": [
      "Wider range needed in likelihood profile\n",
      "Skipping run 0\n",
      "Wider range needed in likelihood profile\n",
      "Skipping run 3\n",
      "Wider range needed in likelihood profile\n",
      "Skipping run 4\n"
     ]
    },
    {
     "name": "stdout",
     "output_type": "stream",
     "text": [
      "CPU times: user 10min 39s, sys: 3.68 s, total: 10min 43s\n",
      "Wall time: 11min 1s\n"
     ]
    }
   ],
   "source": [
    "%%time\n",
    "# stat_profile_opts=dict(bounds=(-25, 100), nvalues=50)     # default param\n",
    "# if nuisance = True the process takes the nuisance parameters into account\n",
    "warnings.filterwarnings(\"ignore\")\n",
    "result = estimator.run(runs=5, nuisance=True)"
   ]
  },
  {
   "cell_type": "markdown",
   "metadata": {},
   "source": [
    "**Display results for channel b and run 1**"
   ]
  },
  {
   "cell_type": "code",
   "execution_count": 33,
   "metadata": {
    "scrolled": false
   },
   "outputs": [
    {
     "data": {
      "text/html": [
       "<i>Table length=7</i>\n",
       "<table id=\"table140285873151560\" class=\"table-striped table-bordered table-condensed\">\n",
       "<thead><tr><th>mass</th><th>sigma_v</th><th>sv_ul</th><th>sv_best</th><th>j_best</th></tr></thead>\n",
       "<thead><tr><th>GeV</th><th>cm3 / s</th><th></th><th></th><th>GeV2 / cm5</th></tr></thead>\n",
       "<thead><tr><th>float64</th><th>float64</th><th>float64</th><th>float64</th><th>float64</th></tr></thead>\n",
       "<tr><td>100.0</td><td>1.3743082464472707e-24</td><td>45.81027488157569</td><td>7.541482064439525</td><td>2.8434652255516602e+19</td></tr>\n",
       "<tr><td>200.0</td><td>1.6577617088727736e-24</td><td>55.25872362909245</td><td>1.0</td><td>1.42e+19</td></tr>\n",
       "<tr><td>500.0</td><td>8.1404988098731005e-25</td><td>27.134996032910333</td><td>1.0</td><td>1.42e+19</td></tr>\n",
       "<tr><td>1000.0</td><td>2.1070322978456536e-25</td><td>7.023440992818845</td><td>0.0</td><td>3.3902465412834603e+19</td></tr>\n",
       "<tr><td>5000.0</td><td>2.177491963269261e-25</td><td>7.258306544230869</td><td>0.0</td><td>3.019264720449407e+19</td></tr>\n",
       "<tr><td>10000.0</td><td>5.699133793877554e-25</td><td>18.99711264625851</td><td>1.0</td><td>1.42e+19</td></tr>\n",
       "<tr><td>50000.0</td><td>6.114826757159698e-25</td><td>20.382755857198994</td><td>1.0</td><td>1.42e+19</td></tr>\n",
       "</table>"
      ],
      "text/plain": [
       "<Table length=7>\n",
       "  mass         sigma_v         ...      sv_best              j_best        \n",
       "  GeV          cm3 / s         ...                         GeV2 / cm5      \n",
       "float64        float64         ...      float64             float64        \n",
       "------- ---------------------- ... ----------------- ----------------------\n",
       "  100.0 1.3743082464472707e-24 ... 7.541482064439525 2.8434652255516602e+19\n",
       "  200.0 1.6577617088727736e-24 ...               1.0               1.42e+19\n",
       "  500.0 8.1404988098731005e-25 ...               1.0               1.42e+19\n",
       " 1000.0 2.1070322978456536e-25 ...               0.0 3.3902465412834603e+19\n",
       " 5000.0  2.177491963269261e-25 ...               0.0  3.019264720449407e+19\n",
       "10000.0  5.699133793877554e-25 ...               1.0               1.42e+19\n",
       "50000.0  6.114826757159698e-25 ...               1.0               1.42e+19"
      ]
     },
     "execution_count": 33,
     "metadata": {},
     "output_type": "execute_result"
    }
   ],
   "source": [
    "cols = [\"mass\", \"sigma_v\", \"sv_ul\", \"sv_best\", \"j_best\"]\n",
    "result[\"runs\"][\"b\"][2][cols]"
   ]
  },
  {
   "cell_type": "markdown",
   "metadata": {},
   "source": [
    "**Plot likelihood profile for a specific fit**"
   ]
  },
  {
   "cell_type": "code",
   "execution_count": 34,
   "metadata": {},
   "outputs": [],
   "source": [
    "idx = np.argwhere(masses.value==100)\n",
    "profile = result[\"runs\"][\"Z\"][2][\"statprofile\"][idx][0][0]"
   ]
  },
  {
   "cell_type": "code",
   "execution_count": 35,
   "metadata": {
    "scrolled": true
   },
   "outputs": [
    {
     "data": {
      "image/png": "[encoded data removed]",
      "text/plain": [
       "<Figure size 432x288 with 1 Axes>"
      ]
     },
     "metadata": {
      "needs_background": "light"
     },
     "output_type": "display_data"
    }
   ],
   "source": [
    "plt.plot(profile[\"values\"], profile[\"stat\"]);"
   ]
  },
  {
   "cell_type": "markdown",
   "metadata": {},
   "source": [
    "## Obtained results"
   ]
  },
  {
   "cell_type": "code",
   "execution_count": 36,
   "metadata": {
    "scrolled": false
   },
   "outputs": [
    {
     "data": {
      "text/html": [
       "<i>Table length=7</i>\n",
       "<table id=\"table140285881255976\" class=\"table-striped table-bordered table-condensed\">\n",
       "<thead><tr><th>mass</th><th>sigma_v</th><th>sigma_v_std</th><th>jfactor</th><th>jfactor_std</th></tr></thead>\n",
       "<thead><tr><th>GeV</th><th>cm3 / s</th><th>cm3 / s</th><th>GeV2 / cm5</th><th>GeV2 / cm5</th></tr></thead>\n",
       "<thead><tr><th>float64</th><th>float64</th><th>float64</th><th>float64</th><th>float64</th></tr></thead>\n",
       "<tr><td>100.0</td><td>2.2200139435091753e-24</td><td>8.457056970619046e-25</td><td>2.2691024886293484e+19</td><td>7.119986802282495e+18</td></tr>\n",
       "<tr><td>200.0</td><td>1.371405179074919e-24</td><td>2.8635652979785454e-25</td><td>1.8249533589232753e+19</td><td>4.996817990225978e+18</td></tr>\n",
       "<tr><td>500.0</td><td>8.964896186499732e-25</td><td>8.243973766266305e-26</td><td>1.7168024859896015e+19</td><td>4.937656661431766e+18</td></tr>\n",
       "<tr><td>1000.0</td><td>4.4285805417710595e-25</td><td>2.321548243925406e-25</td><td>2.17682017962386e+19</td><td>9.013055107641071e+18</td></tr>\n",
       "<tr><td>5000.0</td><td>4.380857254477142e-25</td><td>2.203365291207881e-25</td><td>2.2957189012760908e+19</td><td>8.399186571695421e+18</td></tr>\n",
       "<tr><td>10000.0</td><td>5.273095974000512e-25</td><td>4.260378198770423e-26</td><td>1.42e+19</td><td>0.0</td></tr>\n",
       "<tr><td>50000.0</td><td>5.366159922485212e-25</td><td>7.486668346744862e-26</td><td>1.42e+19</td><td>0.0</td></tr>\n",
       "</table>"
      ],
      "text/plain": [
       "<Table length=7>\n",
       "  mass         sigma_v         ...        jfactor              jfactor_std     \n",
       "  GeV          cm3 / s         ...       GeV2 / cm5             GeV2 / cm5     \n",
       "float64        float64         ...        float64                float64       \n",
       "------- ---------------------- ... ---------------------- ---------------------\n",
       "  100.0 2.2200139435091753e-24 ... 2.2691024886293484e+19 7.119986802282495e+18\n",
       "  200.0  1.371405179074919e-24 ... 1.8249533589232753e+19 4.996817990225978e+18\n",
       "  500.0  8.964896186499732e-25 ... 1.7168024859896015e+19 4.937656661431766e+18\n",
       " 1000.0 4.4285805417710595e-25 ...   2.17682017962386e+19 9.013055107641071e+18\n",
       " 5000.0  4.380857254477142e-25 ... 2.2957189012760908e+19 8.399186571695421e+18\n",
       "10000.0  5.273095974000512e-25 ...               1.42e+19                   0.0\n",
       "50000.0  5.366159922485212e-25 ...               1.42e+19                   0.0"
      ]
     },
     "execution_count": 36,
     "metadata": {},
     "output_type": "execute_result"
    }
   ],
   "source": [
    "result[\"mean\"][\"b\"]"
   ]
  },
  {
   "cell_type": "code",
   "execution_count": 37,
   "metadata": {},
   "outputs": [
    {
     "data": {
      "image/png": "[encoded data removed]",
      "text/plain": [
       "<Figure size 648x504 with 1 Axes>"
      ]
     },
     "metadata": {
      "needs_background": "light"
     },
     "output_type": "display_data"
    }
   ],
   "source": [
    "plt.figure(figsize=(9,7))\n",
    "plt.ylim(1e-26, 1e-23)\n",
    "plt.xlim(90, 60000)\n",
    "plt.ylabel(r\"<$\\sigma_{ann}v$> (cm$^3$s$^{-1}$)\", fontsize=12)\n",
    "plt.xlabel(\"m$_{DM}$ (GeV)\", fontsize=12)\n",
    "plt.title(r'm$_{DM}$= 1 TeV, $b\\bar{b}$')\n",
    "plt.hlines(3e-26, 100, 50000, ls=\"--\")\n",
    "\n",
    "\n",
    "for ch in channels:\n",
    "    plt.loglog(\n",
    "        result[\"mean\"][ch][\"mass\"].data,\n",
    "        result[\"mean\"][ch][\"sigma_v\"].data,\n",
    "        ls=\":\",\n",
    "        label='channel {}'.format(ch)\n",
    "       )\n",
    "plt.legend();"
   ]
  },
  {
   "cell_type": "code",
   "execution_count": null,
   "metadata": {},
   "outputs": [],
   "source": []
  }
 ],
 "metadata": {
  "kernelspec": {
   "display_name": "gammapy-sigmav",
   "language": "python",
   "name": "gammapy-sigmav"
  },
  "language_info": {
   "codemirror_mode": {
    "name": "ipython",
    "version": 3
   },
   "file_extension": ".py",
   "mimetype": "text/x-python",
   "name": "python",
   "nbconvert_exporter": "python",
   "pygments_lexer": "ipython3",
   "version": "3.7.0"
  },
  "toc": {
   "base_numbering": 1,
   "nav_menu": {},
   "number_sections": false,
   "sideBar": true,
   "skip_h1_title": false,
   "title_cell": "Table of Contents",
   "title_sidebar": "Contents",
   "toc_cell": false,
   "toc_position": {},
   "toc_section_display": true,
   "toc_window_display": false
  },
  "varInspector": {
   "cols": {
    "lenName": 16,
    "lenType": 16,
    "lenVar": 40
   },
   "kernels_config": {
    "python": {
     "delete_cmd_postfix": "",
     "delete_cmd_prefix": "del ",
     "library": "var_list.py",
     "varRefreshCmd": "print(var_dic_list())"
    },
    "r": {
     "delete_cmd_postfix": ") ",
     "delete_cmd_prefix": "rm(",
     "library": "var_list.r",
     "varRefreshCmd": "cat(var_dic_list()) "
    }
   },
   "types_to_exclude": [
    "module",
    "function",
    "builtin_function_or_method",
    "instance",
    "_Feature"
   ],
   "window_display": false
  }
 },
 "nbformat": 4,
 "nbformat_minor": 2
}
